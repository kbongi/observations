{
 "cells": [
  {
   "cell_type": "markdown",
   "metadata": {},
   "source": [
    "# Calculate extreme indices"
   ]
  },
  {
   "cell_type": "code",
   "execution_count": 5,
   "metadata": {},
   "outputs": [],
   "source": [
    "import xarray as xr, matplotlib.pyplot as plt\n",
    "from importlib import reload # need to use this if I edit a function file\n",
    "import os\n",
    "import numpy as np\n",
    "import pandas as pd\n",
    "import cartopy.crs as ccrs # to add in continents and change map projections \n",
    "from matplotlib.colors import LinearSegmentedColormap # to change colour bar????\n",
    "import dask.diagnostics # dask allows you to check how long something is taking to load\n",
    "import climtas # needed to count event statistics with a specified duration\n",
    "import seaborn as sns\n",
    "import scipy.stats # to calculate correlation"
   ]
  },
  {
   "cell_type": "code",
   "execution_count": 6,
   "metadata": {},
   "outputs": [],
   "source": [
    "# import custom functions\n",
    "import sys \n",
    "sys.path.append('/home/563/kb6999/Functions') # use this if the function file is in a different directory to the notebook\n",
    "\n",
    "import frequently_used_functions as func\n",
    "import plotting_functions as fplot\n",
    "import model_functions as funcM\n",
    "import reanalysis_functions as funcR\n",
    "import Extreme_indices_functions as funcX\n",
    "# import obs_functions as funcO"
   ]
  },
  {
   "cell_type": "code",
   "execution_count": 7,
   "metadata": {},
   "outputs": [],
   "source": [
    "# define path where obs data is store\n",
    "path = '/g/data/w48/kb6999/Observations/obs_netcdfs_T/'"
   ]
  },
  {
   "cell_type": "code",
   "execution_count": 1,
   "metadata": {},
   "outputs": [],
   "source": [
    "# set the [lat, lon] for each station - sourced from Google\n",
    "adelaide = [-34.9285, 138.6007]\n",
    "armidale = [-30.5036, 151.6523]\n",
    "cape_otway = [-38.8340, 143.5241]\n",
    "melbourne = [-37.8136, 144.9631]\n",
    "sydney = [-33.8688, 151.2093]"
   ]
  },
  {
   "cell_type": "code",
   "execution_count": 2,
   "metadata": {},
   "outputs": [],
   "source": [
    "# put the lat lon for station into an array\n",
    "i = 0\n",
    "stat_lat = [adelaide[i], armidale[i], cape_otway[i], melbourne[i], sydney[i]]\n",
    "i=1\n",
    "stat_lon = [adelaide[i], armidale[i], cape_otway[i], melbourne[i], sydney[i]]"
   ]
  },
  {
   "cell_type": "code",
   "execution_count": 3,
   "metadata": {},
   "outputs": [],
   "source": [
    "# sete the text for each station to be displayed \n",
    "station_names = ['Adelaide', 'Armidale', 'Cape Otway', 'Melbourne', 'Sydney']"
   ]
  },
  {
   "cell_type": "code",
   "execution_count": 9,
   "metadata": {},
   "outputs": [
    {
     "ename": "NameError",
     "evalue": "name 'land_Aus' is not defined",
     "output_type": "error",
     "traceback": [
      "\u001b[0;31m---------------------------------------------------------------------------\u001b[0m",
      "\u001b[0;31mNameError\u001b[0m                                 Traceback (most recent call last)",
      "\u001b[0;32m<ipython-input-9-0bfd47258f4a>\u001b[0m in \u001b[0;36m<module>\u001b[0;34m\u001b[0m\n\u001b[1;32m      3\u001b[0m \u001b[0max\u001b[0m \u001b[0;34m=\u001b[0m \u001b[0mplt\u001b[0m\u001b[0;34m.\u001b[0m\u001b[0maxes\u001b[0m\u001b[0;34m(\u001b[0m\u001b[0mprojection\u001b[0m\u001b[0;34m=\u001b[0m\u001b[0mccrs\u001b[0m\u001b[0;34m.\u001b[0m\u001b[0mPlateCarree\u001b[0m\u001b[0;34m(\u001b[0m\u001b[0mcentral_longitude\u001b[0m\u001b[0;34m=\u001b[0m\u001b[0;36m150\u001b[0m\u001b[0;34m)\u001b[0m\u001b[0;34m)\u001b[0m\u001b[0;34m\u001b[0m\u001b[0;34m\u001b[0m\u001b[0m\n\u001b[1;32m      4\u001b[0m \u001b[0;31m# set the axes to include australia\u001b[0m\u001b[0;34m\u001b[0m\u001b[0;34m\u001b[0m\u001b[0;34m\u001b[0m\u001b[0m\n\u001b[0;32m----> 5\u001b[0;31m \u001b[0max\u001b[0m\u001b[0;34m.\u001b[0m\u001b[0mset_extent\u001b[0m\u001b[0;34m(\u001b[0m\u001b[0;34m[\u001b[0m\u001b[0mland_Aus\u001b[0m\u001b[0;34m.\u001b[0m\u001b[0mlon\u001b[0m\u001b[0;34m[\u001b[0m\u001b[0;36m0\u001b[0m\u001b[0;34m]\u001b[0m \u001b[0;34m-\u001b[0m \u001b[0;36m2.5\u001b[0m\u001b[0;34m,\u001b[0m \u001b[0mland_Aus\u001b[0m\u001b[0;34m.\u001b[0m\u001b[0mlon\u001b[0m\u001b[0;34m[\u001b[0m\u001b[0;34m-\u001b[0m\u001b[0;36m1\u001b[0m\u001b[0;34m]\u001b[0m \u001b[0;34m+\u001b[0m \u001b[0;36m2.5\u001b[0m\u001b[0;34m,\u001b[0m \u001b[0mland_Aus\u001b[0m\u001b[0;34m.\u001b[0m\u001b[0mlat\u001b[0m\u001b[0;34m[\u001b[0m\u001b[0;36m0\u001b[0m\u001b[0;34m]\u001b[0m \u001b[0;34m-\u001b[0m \u001b[0;36m2.5\u001b[0m\u001b[0;34m,\u001b[0m \u001b[0mland_Aus\u001b[0m\u001b[0;34m.\u001b[0m\u001b[0mlat\u001b[0m\u001b[0;34m[\u001b[0m\u001b[0;34m-\u001b[0m\u001b[0;36m1\u001b[0m\u001b[0;34m]\u001b[0m \u001b[0;34m+\u001b[0m \u001b[0;36m1\u001b[0m\u001b[0;34m]\u001b[0m\u001b[0;34m,\u001b[0m \u001b[0mcrs\u001b[0m\u001b[0;34m=\u001b[0m\u001b[0mccrs\u001b[0m\u001b[0;34m.\u001b[0m\u001b[0mPlateCarree\u001b[0m\u001b[0;34m(\u001b[0m\u001b[0;34m)\u001b[0m\u001b[0;34m)\u001b[0m\u001b[0;34m\u001b[0m\u001b[0;34m\u001b[0m\u001b[0m\n\u001b[0m\u001b[1;32m      6\u001b[0m \u001b[0;34m\u001b[0m\u001b[0m\n\u001b[1;32m      7\u001b[0m \u001b[0;31m# ax.stock_img() # fills in colour for oceans and continents\u001b[0m\u001b[0;34m\u001b[0m\u001b[0;34m\u001b[0m\u001b[0;34m\u001b[0m\u001b[0m\n",
      "\u001b[0;31mNameError\u001b[0m: name 'land_Aus' is not defined"
     ]
    },
    {
     "data": {
      "image/png": "[encoded data removed]",
      "text/plain": [
       "<Figure size 1080x720 with 1 Axes>"
      ]
     },
     "metadata": {
      "needs_background": "light"
     },
     "output_type": "display_data"
    }
   ],
   "source": [
    "# example with grid lines\n",
    "fig = plt.figure(figsize=(15,10))\n",
    "ax = plt.axes(projection=ccrs.PlateCarree(central_longitude=150))\n",
    "# set the axes to include australia\n",
    "ax.set_extent([land_Aus.lon[0] - 2.5, land_Aus.lon[-1] + 2.5, land_Aus.lat[0] - 2.5, land_Aus.lat[-1] + 1], crs=ccrs.PlateCarree())\n",
    "\n",
    "# ax.stock_img() # fills in colour for oceans and continents \n",
    "ax.coastlines(resolution='10m', color='k', lw=1)\n",
    "\n",
    "# plot circle for each station location\n",
    "for s, val in enumerate(stat_lat):\n",
    "    plt.plot(stat_lon[s], stat_lat[s], 'o', color='crimson',markersize='8', transform=ccrs.PlateCarree()) # krakatoa\n",
    "\n",
    "# move the text for each station\n",
    "# adelaide\n",
    "plt.text(stat_lon[0]+0.5, stat_lat[0], station_names[0], fontsize='large', fontweight='semibold', transform=ccrs.PlateCarree())\n",
    "#armidale\n",
    "plt.text(stat_lon[1]-2.5, stat_lat[1]+0.5, station_names[1], fontsize='large', fontweight='semibold', transform=ccrs.PlateCarree())\n",
    "# cape otway\n",
    "plt.text(stat_lon[2]-5.2, stat_lat[2]-0.8, station_names[2], fontsize='large', fontweight='semibold', transform=ccrs.PlateCarree())\n",
    "# melbourne\n",
    "plt.text(stat_lon[3], stat_lat[3]+0.5, station_names[3], fontsize='large', fontweight='semibold', transform=ccrs.PlateCarree())\n",
    "#sydney\n",
    "plt.text(stat_lon[4]+0.5, stat_lat[4], station_names[4], fontsize='large', fontweight='semibold', transform=ccrs.PlateCarree())\n",
    "\n",
    "\n",
    "# ax.gridlines(xlocs=range(-180,181,20), ylocs=range(-80,81,20),draw_labels=True)\n",
    "# ax.gridlines(xlocs=range(-160,181,20), ylocs=range(-80,81,20),draw_labels=True)\n",
    "# tropics = ax.gridlines(ylocs=[-23.43691,23.43691],draw_labels=True,linewidth=1,linestyle='--', edgecolor='darkgrey')\n",
    "# tropics.xlines=False\n",
    "\n",
    "# ax.text(0,-0.07,'Longitude', transform=ax.transAxes, ha='left')\n",
    "# ax.text(-0.05,0,'Latitude', transform=ax.transAxes, rotation='vertical', va='bottom')\n",
    "# plt.savefig('station_locations.png', dpi=300)"
   ]
  },
  {
   "cell_type": "code",
   "execution_count": null,
   "metadata": {},
   "outputs": [],
   "source": []
  }
 ],
 "metadata": {
  "kernelspec": {
   "display_name": "Python 3",
   "language": "python",
   "name": "python3"
  },
  "language_info": {
   "codemirror_mode": {
    "name": "ipython",
    "version": 3
   },
   "file_extension": ".py",
   "mimetype": "text/x-python",
   "name": "python",
   "nbconvert_exporter": "python",
   "pygments_lexer": "ipython3",
   "version": "3.8.10"
  }
 },
 "nbformat": 4,
 "nbformat_minor": 4
}
